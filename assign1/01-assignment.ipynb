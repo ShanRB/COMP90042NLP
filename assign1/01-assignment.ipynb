{
 "cells": [
  {
   "cell_type": "markdown",
   "metadata": {},
   "source": [
    "# Homework 1: Preprocessing and Text Classification"
   ]
  },
  {
   "cell_type": "markdown",
   "metadata": {},
   "source": [
    "Student Name:Rongbing Shan\n",
    "\n",
    "Student ID:945388"
   ]
  },
  {
   "cell_type": "markdown",
   "metadata": {},
   "source": [
    "# General Info\n",
    "\n",
    "<b>Due date</b>: Sunday, 5 Apr 2020 5pm\n",
    "\n",
    "<b>Submission method</b>: Canvas submission\n",
    "\n",
    "<b>Submission materials</b>: completed copy of this iPython notebook\n",
    "\n",
    "<b>Late submissions</b>: -20% per day (both week and weekend days counted)\n",
    "\n",
    "<b>Marks</b>: 10% of mark for class (with 9% on correctness + 1% on quality and efficiency of your code)\n",
    "\n",
    "<b>Materials</b>: See [Using Jupyter Notebook and Python page](https://canvas.lms.unimelb.edu.au/courses/17601/pages/using-jupyter-notebook-and-python?module_item_id=1678430) on Canvas (under Modules>Resources) for information on the basic setup required for this class, including an iPython notebook viewer and the python packages NLTK, Numpy, Scipy, Matplotlib, Scikit-Learn, and Gensim. In particular, if you are not using a lab computer which already has it installed, we recommend installing all the data for NLTK, since you will need various parts of it to complete this assignment. You can also use any Python built-in packages, but do not use any other 3rd party packages (the packages listed above are all fine to use); if your iPython notebook doesn't run on the marker's machine, you will lose marks. <b> You should use Python 3</b>.  \n",
    "\n",
    "To familiarize yourself with NLTK, here is a free online book:  Steven Bird, Ewan Klein, and Edward Loper (2009). <a href=http://nltk.org/book>Natural Language Processing with Python</a>. O'Reilly Media Inc. You may also consult the <a href=https://www.nltk.org/api/nltk.html>NLTK API</a>.\n",
    "\n",
    "<b>Evaluation</b>: Your iPython notebook should run end-to-end without any errors in a reasonable amount of time, and you must follow all instructions provided below, including specific implementation requirements and instructions for what needs to be printed (please avoid printing output we don't ask for). You should edit the sections below where requested, but leave the rest of the code as is. You should leave the output from running your code in the iPython notebook you submit, to assist with marking. The amount each section is worth is given in parenthesis after the instructions. \n",
    "\n",
    "You will be marked not only on the correctness of your methods, but also the quality and efficency of your code: in particular, you should be careful to use Python built-in functions and operators when appropriate and pick descriptive variable names that adhere to <a href=\"https://www.python.org/dev/peps/pep-0008/\">Python style requirements</a>. If you think it might be unclear what you are doing, you should comment your code to help the marker make sense of it.\n",
    "\n",
    "<b>Updates</b>: Any major changes to the assignment will be announced via Canvas. Minor changes and clarifications will be announced on the discussion board; we recommend you check it regularly.\n",
    "\n",
    "<b>Academic misconduct</b>: For most people, collaboration will form a natural part of the undertaking of this homework, and we encourge you to discuss it in general terms with other students. However, this ultimately is still an individual task, and so reuse of code or other instances of clear influence will be considered cheating. We will be checking submissions for originality and will invoke the University’s <a href=\"http://academichonesty.unimelb.edu.au/policy.html\">Academic Misconduct policy</a> where inappropriate levels of collusion or plagiarism are deemed to have taken place."
   ]
  },
  {
   "cell_type": "markdown",
   "metadata": {},
   "source": [
    "# Overview\n",
    "\n",
    "In this homework, you'll be working with a collection tweets. The task is to classify whether a tweet constitutes a rumour event. This homework involves writing code to preprocess data and perform text classification."
   ]
  },
  {
   "cell_type": "markdown",
   "metadata": {},
   "source": [
    "# 1. Preprocessing (5 marks)"
   ]
  },
  {
   "cell_type": "markdown",
   "metadata": {},
   "source": [
    "**Instructions**: Run the code below to download the tweet corpus for the assignment. Note: the download may take some time. **No implementation is needed.**"
   ]
  },
  {
   "cell_type": "code",
   "execution_count": 1,
   "metadata": {},
   "outputs": [
    {
     "name": "stdout",
     "output_type": "stream",
     "text": [
      "Done. File downloaded: rumour-data.tgz\n"
     ]
    }
   ],
   "source": [
    "import requests\n",
    "import os\n",
    "from pathlib import Path\n",
    "\n",
    "fname = 'rumour-data.tgz'\n",
    "data_dir = os.path.splitext(fname)[0] #'rumour-data'\n",
    "\n",
    "my_file = Path(fname)\n",
    "if not my_file.is_file():\n",
    "    url = \"https://github.com/jhlau/jhlau.github.io/blob/master/files/rumour-data.tgz?raw=true\"\n",
    "    r = requests.get(url)\n",
    "\n",
    "    #Save to the current directory\n",
    "    with open(fname, 'wb') as f:\n",
    "        f.write(r.content)\n",
    "        \n",
    "print(\"Done. File downloaded:\", my_file)\n"
   ]
  },
  {
   "cell_type": "markdown",
   "metadata": {},
   "source": [
    "**Instructions**: Run the code to extract the zip file. Note: the extraction may take a minute or two. **No implementation is needed.**"
   ]
  },
  {
   "cell_type": "code",
   "execution_count": 2,
   "metadata": {},
   "outputs": [
    {
     "name": "stdout",
     "output_type": "stream",
     "text": [
      "Extraction done.\n"
     ]
    }
   ],
   "source": [
    "import tarfile\n",
    "\n",
    "#decompress rumour-data.tgz\n",
    "tar = tarfile.open(fname, \"r:gz\")\n",
    "tar.extractall()\n",
    "tar.close()\n",
    "\n",
    "#remove superfluous files (e.g. .DS_store)\n",
    "extra_files = []\n",
    "for r, d, f in os.walk(data_dir):\n",
    "    for file in f:\n",
    "        if (file.startswith(\".\")):\n",
    "            extra_files.append(os.path.join(r, file))\n",
    "for f in extra_files:\n",
    "    os.remove(f)\n",
    "\n",
    "print(\"Extraction done.\")"
   ]
  },
  {
   "cell_type": "markdown",
   "metadata": {},
   "source": [
    "### Question 1 (1.0 mark)\n",
    "\n",
    "**Instructions**: The corpus data is in the *rumour-data* folder. It contains 2 sub-folders: *non-rumours* and *rumours*. As the names suggest, *rumours* contains all rumour-propagating tweets, while *non-rumours* has normal tweets. Within  *rumours* and *non-rumours*, you'll find some sub-folders, each named with an ID. Each of these IDs constitutes an 'event', where an event is defined as consisting a **source tweet** and its **reactions**.\n",
    "\n",
    "An illustration of the folder structure is given below:\n",
    "\n",
    "    rumour-data\n",
    "        - rumours\n",
    "            - 498254340310966273\n",
    "                - reactions\n",
    "                    - 498254340310966273.json\n",
    "                    - 498260814487642112.json\n",
    "                - source-tweet\n",
    "                    - 498254340310966273.json\n",
    "        - non-rumours\n",
    "\n",
    "Now we need to gather the tweet messages for rumours and non-rumour events. As the individual tweets are stored in json format, we need to use a json parser to parse and collect the actual tweet message. The function `get_tweet_text_from_json(file_path)` is provided to do that.\n",
    "\n",
    "**Task**: Complete the `get_events(event_dir)` function. The function should return **a list of events** for a particular class of tweets (e.g. rumours), and each event should contain the source tweet message and all reaction tweet messages.\n",
    "\n",
    "**Check**: Use the assertion statements in *\"For your testing\"* below for the expected output."
   ]
  },
  {
   "cell_type": "code",
   "execution_count": 3,
   "metadata": {},
   "outputs": [
    {
     "name": "stdout",
     "output_type": "stream",
     "text": [
      "Number of rumour events = 500\n",
      "Number of non-rumour events = 1000\n"
     ]
    }
   ],
   "source": [
    "import json\n",
    "\n",
    "def get_tweet_text_from_json(file_path):\n",
    "    with open(file_path) as json_file:\n",
    "        data = json.load(json_file)\n",
    "        return data[\"text\"]\n",
    "    \n",
    "def get_events(event_dir):\n",
    "    event_list = []\n",
    "    for event in sorted(os.listdir(event_dir)):\n",
    "        ###\n",
    "        # Your answer BEGINS HERE\n",
    "        ###\n",
    "        data_list = []    # list of parsed tweets for an event\n",
    "        \n",
    "        #generate directory path for source-tweet and reactions \n",
    "        sourcetweet_path = os.path.join(event_dir,event,\"source-tweet\")\n",
    "        reactions_path = os.path.join(event_dir,event,\"reactions\")\n",
    "\n",
    "        #generate parsed tweets of source tweet for the event\n",
    "        for file in os.listdir(sourcetweet_path):\n",
    "            file_path = os.path.join(sourcetweet_path,file)\n",
    "            data = get_tweet_text_from_json(file_path)\n",
    "            data_list += [data]\n",
    "        #generate parsed tweets of reactions for the event\n",
    "        for file in os.listdir(reactions_path):\n",
    "            file_path = os.path.join(reactions_path,file)\n",
    "            data = get_tweet_text_from_json(file_path)\n",
    "            data_list += [data]\n",
    "\n",
    "        #each event consists of all parsed tweets from source-tweet and reactions\n",
    "        event_list += [data_list]\n",
    "        \n",
    "        ###\n",
    "        # Your answer ENDS HERE\n",
    "        ###\n",
    "        \n",
    "    return event_list\n",
    "    \n",
    "#a list of events, and each event is a list of tweets (source tweet + reactions)    \n",
    "rumour_events = get_events(os.path.join(data_dir, \"rumours\"))\n",
    "nonrumour_events = get_events(os.path.join(data_dir, \"non-rumours\"))\n",
    "\n",
    "print(\"Number of rumour events =\", len(rumour_events))\n",
    "print(\"Number of non-rumour events =\", len(nonrumour_events))"
   ]
  },
  {
   "cell_type": "markdown",
   "metadata": {},
   "source": [
    "**For your testing:**"
   ]
  },
  {
   "cell_type": "code",
   "execution_count": 4,
   "metadata": {},
   "outputs": [],
   "source": [
    "assert(len(rumour_events) == 500)\n",
    "assert(len(nonrumour_events) == 1000)"
   ]
  },
  {
   "cell_type": "markdown",
   "metadata": {},
   "source": [
    "### Question 2 (1.0 mark)\n",
    "\n",
    "**Instructions**: Next we need to preprocess the collected tweets to create a bag-of-words representation. The preprocessing steps required here are: (1) tokenize each tweet into individual word tokens (using NLTK `TweetTokenizer`); and (2) remove stopwords (based on NLTK `stopwords`).\n",
    "\n",
    "**Task**: Complete the `preprocess_events(event)` function. The function takes **a list of events** as input, and returns **a list of preprocessed events**. Each preprocessed event should have a dictionary of words and frequencies.\n",
    "\n",
    "**Check**: Use the assertion statements in *\"For your testing\"* below for the expected output."
   ]
  },
  {
   "cell_type": "code",
   "execution_count": 5,
   "metadata": {},
   "outputs": [
    {
     "name": "stdout",
     "output_type": "stream",
     "text": [
      "Number of preprocessed rumour events = 500\n",
      "Number of preprocessed non-rumour events = 1000\n"
     ]
    }
   ],
   "source": [
    "import nltk\n",
    "from nltk.tokenize import TweetTokenizer\n",
    "from nltk.corpus import stopwords\n",
    "from collections import defaultdict\n",
    "\n",
    "tt = TweetTokenizer()\n",
    "stopwords = set(stopwords.words('english'))\n",
    "\n",
    "def preprocess_events(events):\n",
    "    ###\n",
    "    # Your answer BEGINS HERE\n",
    "    ###\n",
    "    procd_events = []\n",
    "    for event in events:\n",
    "        bow = {}    #bag of words\n",
    "        \n",
    "        for tweet in event:\n",
    "            tokens = tt.tokenize(tweet)\n",
    "            \n",
    "            # calculate frequencies for tokens and remove stop words\n",
    "            for token in tokens:\n",
    "                if token.lower() not in stopwords:\n",
    "                    if token not in bow.keys():\n",
    "                        bow[token] = 1\n",
    "                    else:\n",
    "                        bow[token] += 1\n",
    "        procd_events += [bow]\n",
    "    \n",
    "    return procd_events\n",
    "    ###\n",
    "    # Your answer ENDS HERE\n",
    "    ###\n",
    "\n",
    "preprocessed_rumour_events = preprocess_events(rumour_events)\n",
    "preprocessed_nonrumour_events = preprocess_events(nonrumour_events)\n",
    "\n",
    "print(\"Number of preprocessed rumour events =\", len(preprocessed_rumour_events))\n",
    "print(\"Number of preprocessed non-rumour events =\", len(preprocessed_nonrumour_events))"
   ]
  },
  {
   "cell_type": "markdown",
   "metadata": {},
   "source": [
    "**For your testing**:"
   ]
  },
  {
   "cell_type": "code",
   "execution_count": 6,
   "metadata": {},
   "outputs": [],
   "source": [
    "assert(len(preprocessed_rumour_events) == 500)\n",
    "assert(len(preprocessed_nonrumour_events) == 1000)"
   ]
  },
  {
   "cell_type": "markdown",
   "metadata": {},
   "source": [
    "**Instructions**: Hashtags (i.e. topic tags which start with #) pose an interesting tokenisation problem because they often include multiple words written without spaces or capitalization. Run the code below to collect all unique hashtags in the preprocessed data. **No implementation is needed.**\n",
    "\n"
   ]
  },
  {
   "cell_type": "code",
   "execution_count": 7,
   "metadata": {},
   "outputs": [
    {
     "name": "stdout",
     "output_type": "stream",
     "text": [
      "Number of hashtags = 1829\n"
     ]
    }
   ],
   "source": [
    "def get_all_hashtags(events):\n",
    "    hashtags = set([])\n",
    "    for event in events:\n",
    "        for word, frequency in event.items():\n",
    "            if word.startswith(\"#\"):\n",
    "                hashtags.add(word)\n",
    "    return hashtags\n",
    "\n",
    "hashtags = get_all_hashtags(preprocessed_rumour_events + preprocessed_nonrumour_events)\n",
    "print(\"Number of hashtags =\", len(hashtags))"
   ]
  },
  {
   "cell_type": "markdown",
   "metadata": {},
   "source": [
    "### Question 3 (2.0 mark)\n",
    "\n",
    "**Instructions**: Our task here to tokenize the hashtags, by implementing a reversed version of the MaxMatch algorithm discussed in class, where matching begins at the end of the hashtag and progresses backwards. NLTK has a list of words that you can use for matching, see starter code below. Be careful about efficiency with respect to doing word lookups. One extra challenge you have to deal with is that the provided list of words includes only lemmas: your MaxMatch algorithm should match inflected forms by converting them into lemmas using the NLTK lemmatizer before matching. When lemmatising a word, you also need to provide the part-of-speech tag of the word. You should use `nltk.tag.pos_tag` for doing part-of-speech tagging.\n",
    "\n",
    "Note that the list of words is incomplete, and, if you are unable to make any longer match, your code should default to matching a single letter. Create a new list of tokenized hashtags (this should be a list of lists of strings) and use slicing to print out the last 20 hashtags in the list.\n",
    "\n",
    "For example, given \"#speakup\", the algorithm should produce: \\[\"#\", \"speak\", \"up\"\\]. And note that you do not need to delete the hashtag symbol (\"#\") from the tokenised outputs.\n",
    "\n",
    "**Task**: Complete the `tokenize_hashtags(hashtags)` function by implementing a reversed MaxMatch algorithm. The function takes as input **a set of hashtags**, and returns **a dictionary** where key=\"hashtag\" and value=\"a list of word tokens\".\n",
    "\n",
    "**Check**: Use the assertion statements in *\"For your testing\"* below for the expected output."
   ]
  },
  {
   "cell_type": "code",
   "execution_count": 8,
   "metadata": {},
   "outputs": [
    {
     "name": "stdout",
     "output_type": "stream",
     "text": [
      "[('#chokenchickens', ['#', 'cho', 'ken', 'chickens']), ('#StaySafeMalala', ['#', 'Stay', 'Sa', 'f', 'eM', 'alala']), ('#KSLAM', ['#', 'K', 'SLAM']), ('#SMH', ['#', 'S', 'M', 'H']), ('#трагедия', ['#', 'т', 'р', 'а', 'г', 'е', 'д', 'и', 'я']), ('#20', ['#', '2', '0']), ('#NotParadise', ['#', 'Not', 'Paradise']), ('#parisisburning', ['#', 'parisis', 'burning']), ('#4U9529', ['#', '4', 'U', '9', '5', '2', '9']), ('#promise', ['#', 'promise']), ('#ABCNews24', ['#', 'AB', 'C', 'News', '2', '4']), ('#khilafah', ['#', 'khila', 'f', 'ah']), ('#foodforthought', ['#', 'food', 'for', 'thought']), ('#freedom', ['#', 'freedom']), ('#PrioritiesMessedUp', ['#', 'Priorities', 'Messe', 'dUp']), ('#Proudcanadian', ['#', 'P', 'roud', 'canadian']), ('#muslims', ['#', 'mus', 'li', 'ms']), ('#CharlieHebdo', ['#', 'Charlie', 'He', 'b', 'do']), ('#CopsSUCK', ['#', 'Cops', 'SUCK']), ('#MiraclesDoHappen', ['#', 'Miracles', 'Do', 'Happen'])]\n"
     ]
    }
   ],
   "source": [
    "from nltk.corpus import wordnet\n",
    "from nltk.tag import pos_tag\n",
    "\n",
    "lemmatizer = nltk.stem.wordnet.WordNetLemmatizer()\n",
    "words_init = set(nltk.corpus.words.words()) #a list of words provided by NLTK\n",
    "\n",
    "# convert the words to lower cases\n",
    "words = set()\n",
    "for text in words_init:\n",
    "    words.add(text.lower())\n",
    "    \n",
    "def get_wordnet_pos(word):\n",
    "    # get the pos tag for wordnet from nltk.tag.pos_tag, given an input word\n",
    "    # the conversion is based on the first letter from nltk tags\n",
    "    tagHead = pos_tag([word])[0][1][0]\n",
    "    if tagHead == 'N':\n",
    "        return wordnet.NOUN\n",
    "    elif tagHead == \"J\": \n",
    "        return wordnet.ADJ\n",
    "    elif tagHead == 'V':\n",
    "        return wordnet.VERB\n",
    "    elif tagHead == 'R':\n",
    "        return wordnet.ADV\n",
    "    else:\n",
    "        return wordnet.NOUN\n",
    "\n",
    "def reverse_maxmatch(word):\n",
    "    # tokenize the input hashtag using reverse MaxMatch algorithm\n",
    "    # note that the input hashtag should start with \"#\"\n",
    "    if word == \"#\":\n",
    "        return [\"#\"]\n",
    "    wordlength = len(word)\n",
    "    end = wordlength\n",
    "    for start in range(0, end):\n",
    "        subword = word[start:end]\n",
    "        if lemmatizer.lemmatize(subword.lower(),get_wordnet_pos(subword)) in words:\n",
    "            return reverse_maxmatch(word[0:start]) + [subword]\n",
    "    return reverse_maxmatch(word[0:-1]) + [word[-1]]\n",
    "\n",
    "def tokenize_hashtags(hashtags):\n",
    "    ###\n",
    "    # Your answer BEGINS HERE\n",
    "    ###\n",
    "    hashtag_dict = {}\n",
    "    for hashtag in hashtags:\n",
    "        hashtag_dict[hashtag] = reverse_maxmatch(hashtag)\n",
    "    return hashtag_dict\n",
    "    ###\n",
    "    # Your answer ENDS HERE\n",
    "    ###\n",
    "\n",
    "\n",
    "tokenized_hashtags = tokenize_hashtags(hashtags)\n",
    "\n",
    "print(list(tokenized_hashtags.items())[:20])"
   ]
  },
  {
   "cell_type": "markdown",
   "metadata": {},
   "source": [
    "**For your testing:**"
   ]
  },
  {
   "cell_type": "code",
   "execution_count": 9,
   "metadata": {},
   "outputs": [],
   "source": [
    "assert(len(tokenized_hashtags) == len(hashtags))"
   ]
  },
  {
   "cell_type": "markdown",
   "metadata": {},
   "source": [
    "### Question 4 (1.0 mark)\n",
    "\n",
    "**Instructions**: Now that we have the tokenized hashtags, we need to go back and update the bag-of-words representation for each event.\n",
    "\n",
    "**Task**: Complete the ``update_event_bow(events)`` function. The function takes **a list of preprocessed events**, and for each event, it looks for every hashtag it has and updates the bag-of-words dictionary with the tokenized hashtag tokens. Note: you do not need to delete the counts of the original hashtags when updating the bag-of-words (e.g., if a document has \"#speakup\":2 in its bag-of-words representation, you do not need to delete this hashtag and its counts)."
   ]
  },
  {
   "cell_type": "code",
   "execution_count": 10,
   "metadata": {},
   "outputs": [
    {
     "name": "stdout",
     "output_type": "stream",
     "text": [
      "Number of preprocessed rumour events = 500\n",
      "Number of preprocessed non-rumour events = 1000\n"
     ]
    }
   ],
   "source": [
    "def update_event_bow(events):\n",
    "    ###\n",
    "    # Your answer BEGINS HERE\n",
    "    ###\n",
    "\n",
    "    for event in events:\n",
    "        #find all hashtags in an event and put them in a list for further process\n",
    "        hashtags = []\n",
    "        for token in event.keys():\n",
    "            if token.startswith(\"#\"):\n",
    "                hashtags = hashtags + [token]\n",
    "        #loop through all hashtags, update event with tokenized hashtag tokens\n",
    "        for hashtag in hashtags:\n",
    "            if hashtag in tokenized_hashtags:\n",
    "                for word in tokenized_hashtags[hashtag]:\n",
    "                    if word not in event:\n",
    "                        event[hashtag] = 1\n",
    "                    else:\n",
    "                        event[hashtag] += 1\n",
    "    ###\n",
    "    # Your answer ENDS HERE\n",
    "    ###\n",
    "    \n",
    "update_event_bow(preprocessed_rumour_events)\n",
    "update_event_bow(preprocessed_nonrumour_events)\n",
    "\n",
    "print(\"Number of preprocessed rumour events =\", len(preprocessed_rumour_events))\n",
    "print(\"Number of preprocessed non-rumour events =\", len(preprocessed_nonrumour_events))"
   ]
  },
  {
   "cell_type": "markdown",
   "metadata": {},
   "source": [
    "# Text Classification (4 marks)"
   ]
  },
  {
   "cell_type": "markdown",
   "metadata": {},
   "source": [
    "### Question 5 (1.0 mark)\n",
    "\n",
    "**Instructions**: Here we are interested to do text classification, to predict, given a tweet and its reactions, whether it is a rumour or not. The task here is to create training, development and test partitions from the preprocessed events and convert the bag-of-words representation into feature vectors.\n",
    "\n",
    "**Task**: Using scikit-learn, create training, development and test partitions with a 60%/20%/20% ratio. Remember to preserve the ratio of rumour/non-rumour events for all your partitions. Next, turn the bag-of-words dictionary of each event into a feature vector, using scikit-learn `DictVectorizer`."
   ]
  },
  {
   "cell_type": "code",
   "execution_count": 11,
   "metadata": {},
   "outputs": [
    {
     "name": "stdout",
     "output_type": "stream",
     "text": [
      "Vocabulary size = 26698\n"
     ]
    }
   ],
   "source": [
    "from sklearn.feature_extraction import DictVectorizer\n",
    "from sklearn.model_selection import train_test_split\n",
    "\n",
    "vectorizer = DictVectorizer()\n",
    "\n",
    "###\n",
    "# Your answer BEGINS HERE\n",
    "###\n",
    "randomState = 50\n",
    "# create labels for both datasets, rumour and nonrumour\n",
    "rumour_lables = [True] * len(preprocessed_rumour_events)\n",
    "nonrumour_lables = [False] * len(preprocessed_nonrumour_events)\n",
    "lables = rumour_lables + nonrumour_lables\n",
    "dataset = preprocessed_rumour_events + preprocessed_nonrumour_events\n",
    "\n",
    "#create training, development and test partitions with a 60%/20%/20% ratio\n",
    "##fist, split the test data set with proportion 20%\n",
    "remain, test, remain_label, test_label = \\\n",
    "train_test_split(dataset, lables, test_size=0.2, stratify=lables, random_state=randomState)\n",
    "\n",
    "##then, data remainded is split into train and test with propotion 3:1 which is 25%\n",
    "train, development, train_label, development_label = \\\n",
    "train_test_split(remain, remain_label, test_size=0.25, stratify=remain_label, random_state=randomState)\n",
    "\n",
    "#verify the ratio of rumour/non-rumour preserve in all partitions\n",
    "def getRumourRatio(data):\n",
    "    # function to return teh rumour/non-rumour ratio given a label dataset\n",
    "    rumourCount = 0\n",
    "    for n in data:\n",
    "        if n:\n",
    "            rumourCount += 1\n",
    "    nonrumourCount = (len(data) - rumourCount) * 1.0\n",
    "    return rumourCount / nonrumourCount\n",
    "init_ratio = len(rumour_events)*1.0 / len(nonrumour_events)\n",
    "assert(getRumourRatio(train_label)==init_ratio and getRumourRatio(development_label)==init_ratio \\\n",
    "       and getRumourRatio(test_label)==init_ratio)\n",
    "\n",
    "#turn BOW into feature vector\n",
    "train_data = vectorizer.fit_transform(train)\n",
    "development_data = vectorizer.transform(development)\n",
    "test_data = vectorizer.transform(test)\n",
    "\n",
    "###\n",
    "# Your answer ENDS HERE\n",
    "###\n",
    "\n",
    "print(\"Vocabulary size =\", len(vectorizer.vocabulary_))"
   ]
  },
  {
   "cell_type": "markdown",
   "metadata": {},
   "source": [
    "### Question 6 (2.0 mark)\n",
    "\n",
    "**Instructions**: Now, let's build some classifiers. Here, we'll be comparing Naive Bayes and Logistic Regression. For each, you need to first find a good value for their main regularisation (hyper)parameters, which you should identify using the scikit-learn docs or other resources. Use the development set you created for this tuning process; do **not** use cross-validation in the training set, or involve the test set in any way. You don't need to show all your work, but you do need to print out the accuracy with enough different settings to strongly suggest you have found an optimal or near-optimal choice. We should not need to look at your code to interpret the output.\n",
    "\n",
    "**Task**: Implement two text classifiers: Naive Bayes and Logistic Regression. Tune the hyper-parameters of these classifiers and print the task performance for different hyper-parameter settings."
   ]
  },
  {
   "cell_type": "code",
   "execution_count": 12,
   "metadata": {},
   "outputs": [
    {
     "name": "stdout",
     "output_type": "stream",
     "text": [
      "*** MNB Hyper-parameter Tunning ***\n",
      "Grid Range: [0.02 0.04 0.06 0.08 0.1  0.12 0.14 0.16 0.18 0.2  0.22 0.24 0.26 0.28\n",
      " 0.3  0.32 0.34 0.36 0.38 0.4  0.42 0.44 0.46 0.48 0.5  0.52 0.54 0.56\n",
      " 0.58 0.6  0.62 0.64 0.66 0.68 0.7  0.72 0.74 0.76 0.78 0.8  0.82 0.84\n",
      " 0.86 0.88 0.9  0.92 0.94 0.96 0.98 1.  ]\n",
      "Accuracies:[0.8133333333333334, 0.8133333333333334, 0.8166666666666667, 0.82, 0.8066666666666666, 0.8133333333333334, 0.81, 0.81, 0.8066666666666666, 0.8066666666666666, 0.8066666666666666, 0.8066666666666666, 0.81, 0.8133333333333334, 0.8133333333333334, 0.8133333333333334, 0.8133333333333334, 0.8133333333333334, 0.8233333333333334, 0.8233333333333334, 0.82, 0.82, 0.82, 0.82, 0.8233333333333334, 0.8233333333333334, 0.8233333333333334, 0.8233333333333334, 0.8233333333333334, 0.8233333333333334, 0.8233333333333334, 0.8233333333333334, 0.8233333333333334, 0.8233333333333334, 0.8233333333333334, 0.8233333333333334, 0.8266666666666667, 0.8266666666666667, 0.83, 0.83, 0.83, 0.83, 0.8233333333333334, 0.8233333333333334, 0.8233333333333334, 0.8266666666666667, 0.83, 0.8266666666666667, 0.8266666666666667, 0.8266666666666667]\n",
      "Best performance is given at alpha(0.78) with accuracy(0.83)\n",
      "\n",
      "--------------------------------------------------\n",
      "\n",
      "*** LR Hyper-parameter Tunning ***\n",
      "Grid Range: [1.e-03 1.e-02 1.e-01 1.e+00 1.e+01 1.e+02 1.e+03]\n",
      "Accuracies:[0.7433333333333333, 0.7833333333333333, 0.8033333333333333, 0.8266666666666667, 0.8333333333333334, 0.8266666666666667, 0.8266666666666667]\n",
      "Best performance is given at C(10.0) with accuracy(0.83)\n",
      "****************************************\n",
      "Visualized results\n"
     ]
    },
    {
     "data": {
      "text/plain": [
       "Text(0, 0.5, 'Accuracy')"
      ]
     },
     "execution_count": 12,
     "metadata": {},
     "output_type": "execute_result"
    },
    {
     "data": {
      "image/png": "[encoded data removed]",
      "text/plain": [
       "<Figure size 432x288 with 2 Axes>"
      ]
     },
     "metadata": {
      "needs_background": "light"
     },
     "output_type": "display_data"
    }
   ],
   "source": [
    "from sklearn.naive_bayes import MultinomialNB\n",
    "from sklearn.linear_model import LogisticRegression\n",
    "from sklearn.metrics import accuracy_score\n",
    "\n",
    "import numpy as np\n",
    "import matplotlib.pyplot as plt\n",
    "\n",
    "###\n",
    "# Your answer BEGINS HERE\n",
    "###\n",
    "\n",
    "#Naive Bayes classifier\n",
    "##performing grid search over parameter alpha of MultinomialNB\n",
    "#alpha_range = [0.05,0.1,0.15,0.2,0.25,0.3,0.35,0.4,0.45,0.5,0.55,0.6,0.65,0.7,0.75,0.8,0.85,0.9,0.95,1.0]\n",
    "alpha_range = np.linspace(0.02,1,num=50)\n",
    "MNB_accuracy = []    # list to store alpha value with accuracy scores \n",
    "for a in alpha_range:\n",
    "    clfNB = MultinomialNB(alpha = a)\n",
    "    clfNB.fit(train_data, train_label)\n",
    "    MNBpredictions = clfNB.predict(development_data)\n",
    "    MNB_accuracy += [accuracy_score(development_label, MNBpredictions)]\n",
    "print(\"*** MNB Hyper-parameter Tunning ***\")\n",
    "print(f'Grid Range: {alpha_range}')\n",
    "print(f'Accuracies:{MNB_accuracy}')\n",
    "##find best performance hyperparameter\n",
    "MNB_best_accuracy = max(MNB_accuracy)\n",
    "MNB_best_alpha = alpha_range[MNB_accuracy.index(MNB_best_accuracy)]\n",
    "print(f'Best performance is given at alpha({MNB_best_alpha}) with accuracy({MNB_best_accuracy:.2f})')\n",
    "print(\"\\n--------------------------------------------------\\n\")\n",
    "\n",
    "# Logistic Regression classifier\n",
    "##performing grid search over parameter C of MultinomialNB\n",
    "\"\"\"\n",
    "For small values of C, we increase the regularization strength \n",
    "which will create simple models which underfit the data. \n",
    "For big values of C, we low the power of regularization \n",
    "which imples the model is allowed to increase it's complexity, \n",
    "and therefore, overfit the data.\n",
    "\"\"\"\n",
    "LR_accuracy = []\n",
    "#C_range = [0.001,0.01,0.1,1,10,100, 1000]\n",
    "C_range = np.logspace(-3,3,num=7)\n",
    "for c in C_range:\n",
    "    clfLR = LogisticRegression(C=c,solver = \"liblinear\")\n",
    "    clfLR.fit(train_data,train_label)\n",
    "    LRpredictions = clfLR.predict(development_data)\n",
    "    LR_accuracy += [accuracy_score(development_label, LRpredictions)]\n",
    "print(\"*** LR Hyper-parameter Tunning ***\")\n",
    "print(f'Grid Range: {C_range}')\n",
    "print(f'Accuracies:{LR_accuracy}')\n",
    "##find best performance hyperparameter\n",
    "LR_best_accuracy = max(LR_accuracy)\n",
    "LR_best_C = C_range[LR_accuracy.index(LR_best_accuracy)]\n",
    "\n",
    "print(f'Best performance is given at C({LR_best_C}) with accuracy({LR_best_accuracy:.2f})')\n",
    "\n",
    "\n",
    "# visualize the results\n",
    "print(\"*\" * 40)\n",
    "print(\"Visualized results\")\n",
    "## MNB\n",
    "plt.subplot(2, 1, 1)\n",
    "plt.plot(alpha_range, MNB_accuracy)\n",
    "plt.title('Multinomial Naive Bayes Performance')\n",
    "plt.xlabel('alpha')\n",
    "plt.ylabel('Accuracy')\n",
    "## LR\n",
    "plt.subplot(2, 1, 2)\n",
    "plt.subplots_adjust(top=2)\n",
    "plt.xscale('log')\n",
    "plt.plot(C_range, LR_accuracy)\n",
    "plt.title('Logistic Regression Performance')\n",
    "plt.xlabel('C')\n",
    "plt.ylabel('Accuracy')\n",
    "\n",
    "###\n",
    "# Your answer ENDS HERE\n",
    "###"
   ]
  },
  {
   "cell_type": "markdown",
   "metadata": {},
   "source": [
    "### Question 7 (1.0 mark)\n",
    "\n",
    "**Instructions**: Using the best settings you have found, compare the two classifiers based on performance in the test set. Print out both accuracy and macro-averaged F-score for each classifier. Be sure to label your output.\n",
    "\n",
    "**Task**: Compute test performance in terms of accuracy and macro-averaged F-score for both Naive Bayes and Logistic Regression, using optimal hyper-parameter settings."
   ]
  },
  {
   "cell_type": "code",
   "execution_count": 15,
   "metadata": {},
   "outputs": [
    {
     "name": "stdout",
     "output_type": "stream",
     "text": [
      "optimal Multinomial Naive Bayes:\n",
      "MultinomialNB(alpha=0.78, class_prior=None, fit_prior=True)\n",
      "accuracy\n",
      "0.8233333333333334\n",
      "              precision    recall  f1-score   support\n",
      "\n",
      "       False       0.86      0.89      0.87       200\n",
      "        True       0.75      0.70      0.73       100\n",
      "\n",
      "    accuracy                           0.82       300\n",
      "   macro avg       0.80      0.79      0.80       300\n",
      "weighted avg       0.82      0.82      0.82       300\n",
      "\n",
      "\n",
      "--------------------------------------------------\n",
      "\n",
      "optimal Logistic Regression:\n",
      "LogisticRegression(C=10.0, class_weight=None, dual=False, fit_intercept=True,\n",
      "                   intercept_scaling=1, l1_ratio=None, max_iter=100,\n",
      "                   multi_class='auto', n_jobs=None, penalty='l2',\n",
      "                   random_state=None, solver='liblinear', tol=0.0001, verbose=0,\n",
      "                   warm_start=False)\n",
      "accuracy\n",
      "0.8133333333333334\n",
      "              precision    recall  f1-score   support\n",
      "\n",
      "       False       0.81      0.94      0.87       200\n",
      "        True       0.81      0.57      0.67       100\n",
      "\n",
      "    accuracy                           0.81       300\n",
      "   macro avg       0.81      0.75      0.77       300\n",
      "weighted avg       0.81      0.81      0.80       300\n",
      "\n",
      "**True means rumour, False means non-rumou\n"
     ]
    }
   ],
   "source": [
    "###\n",
    "# Your answer BEGINS HERE\n",
    "###\n",
    "from sklearn.metrics import classification_report\n",
    "\n",
    "def print_result(clf, predictions, classifications):\n",
    "    # function to print out the accuracy and F-score for classifiers\n",
    "    print (clf)\n",
    "    print (\"accuracy\")\n",
    "    print (accuracy_score(classifications,predictions))\n",
    "    print (classification_report(classifications,predictions))\n",
    "\n",
    "# use hyper-parameters found in Q6 to retrain the model\n",
    "##MNB\n",
    "clfMNB = MultinomialNB(alpha = MNB_best_alpha)\n",
    "clfMNB.fit(train_data, train_label)\n",
    "MNBpredictions = clfMNB.predict(test_data)\n",
    "##LR\n",
    "clfLR = LogisticRegression(C=LR_best_C,solver = \"liblinear\")\n",
    "clfLR.fit(train_data,train_label)\n",
    "LRpredictions = clfLR.predict(test_data)\n",
    "\n",
    "#print out results\n",
    "print(\"optimal Multinomial Naive Bayes:\")\n",
    "print_result(clfMNB, MNBpredictions, test_label)\n",
    "print(\"\\n--------------------------------------------------\\n\")\n",
    "print(\"optimal Logistic Regression:\")\n",
    "print_result(clfLR, LRpredictions, test_label)\n",
    "\n",
    "#print aditional information\n",
    "print(\"**True means rumour, False means non-rumou\")\n",
    "\n",
    "###\n",
    "# Your answer ENDS HERE\n",
    "###"
   ]
  },
  {
   "cell_type": "code",
   "execution_count": null,
   "metadata": {},
   "outputs": [],
   "source": []
  }
 ],
 "metadata": {
  "kernelspec": {
   "display_name": "Python 3",
   "language": "python",
   "name": "python3"
  },
  "language_info": {
   "codemirror_mode": {
    "name": "ipython",
    "version": 3
   },
   "file_extension": ".py",
   "mimetype": "text/x-python",
   "name": "python",
   "nbconvert_exporter": "python",
   "pygments_lexer": "ipython3",
   "version": "3.6.9"
  }
 },
 "nbformat": 4,
 "nbformat_minor": 2
}
