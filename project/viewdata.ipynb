{
 "cells": [
  {
   "cell_type": "code",
   "execution_count": 5,
   "metadata": {},
   "outputs": [],
   "source": [
    "import json\n",
    "import pprint\n",
    "\n",
    "\n",
    "# read json\n",
    "filename0 = \"dev.json\"\n",
    "file0 = open(filename0, 'r')\n",
    "data = json.load(file0)\n",
    "file0.close()\n",
    "\n",
    "pp = pprint.PrettyPrinter(indent=4)\n",
    "#pp.pprint(data[key]['text'])"
   ]
  },
  {
   "cell_type": "code",
   "execution_count": 6,
   "metadata": {},
   "outputs": [
    {
     "name": "stdout",
     "output_type": "stream",
     "text": [
      "100\n"
     ]
    }
   ],
   "source": [
    "count = 0\n",
    "for key in data:\n",
    "    count += 1\n",
    "print(count)"
   ]
  },
  {
   "cell_type": "code",
   "execution_count": 16,
   "metadata": {},
   "outputs": [
    {
     "name": "stdout",
     "output_type": "stream",
     "text": [
      "65\n",
      "Seven states are already on track to gain seats in the U.S. House of Representatives in the 2020 Census, and six are likely to lose members of Congress, states an analysis of new data from the U.S. Bureau of the Census.\n",
      "Representation of 13 states in Congress would change, based on population shifts between 2010 and 2018, “if these new numbers were used for apportionment today,” states a news release from Election Data Services Inc. (EDS), a political consulting firm that regularly analyzes redistricting, released December 19.\n",
      "“The state of Arizona joins the previously indicated states of Colorado, Florida, North Carolina, and Oregon to each gain a single seat while the state of Texas is now shown to gain a second seat with the new data,” states EDS.\n",
      "“The states of Rhode Island join the states of Illinois, Michigan, Minnesota, New York, Pennsylvania and West Virginia to lose a seat in Congress using the new [Census] data,” EDS states.\n",
      "More States Expected to Lose\n",
      "Projecting state population trends forward to April 1, 2020 indicates changes in representation in 16 states based on several statistical models, EDS reports.\n",
      "“All the methods would add a seat to Montana, a second seat for Florida and a third seat for Texas,” EDS states.\n",
      "“The list of losing states will expand to also include Alabama, Ohio, and a second seat from New York by the time the Census is taken in 2020,” states EDS.\n",
      "Census 2017-2018 Population Shifts\n",
      "Leading the way in population growth as a percentage of population in 2017-2018 were, in descending order, Idaho, Nevada, Utah, and Arizona, the Census Bureau reports. Registering the largest population gains in 2017-2018 were Texas, with 379,000, and Florida, with 322,000.\n",
      "At the other end of the spectrum, nine states lost population. New York lost the most residents, 48,510, and Illinois was the second-worst performer, losing 45,116 residents.\n",
      "States gained or lost population as a result of natural increase and international and interstate migration, the Census Bureau reports.\n",
      "The U.S. population as a whole grew by two million persons from 2017 to 2018, to 327 million, states the Census Bureau news release on national and state population data tables published December 19. Half the change in the nation’s population was caused by natural increase and half by immigration, the Census Bureau notes.\n",
      "Cumulative Population Changes\n",
      "The overall U.S. population grew by more than 18 million persons from April 1, 2010 to July 1, 2018, the new Census tables show.\n",
      "Although every region of the continental United States gained population over the 2010-2018 period, the population of the Northeast grew by only 1.4 percent and the Midwest by 2.1 percent, the Census tables state.\n",
      "The population of the West grew by 8.4 percent and the South by 8.9 percent.\n",
      "Seeking Better Governments\n",
      "The state and regional population changes in the past year and over the 2010-2018 period show outbound migration from less competitive states, says Jonathan Williams, chief economist at the American Legislative Exchange Council (ALEC).\n",
      "“In general, states that keep taxes low and provide a competitive business climate perform far better than states that follow a tax-and-spend approach,” said Williams.\n",
      "The domestic migration patterns revealed in the Census data show people will move to areas with better prospects, says Williams.\n",
      "“This country has always been the land of opportunity, offering newly arrived immigrants a chance to live the American Dream,” Williams said. “Sometimes it’s easy to forget the magnitude of migration within our own borders driven by similar aspirations.”\n",
      "‘Turn Out the Lights’\n",
      "The states that will lose seats in Congress are generally high-tax states, says economist Steve Moore, a visiting fellow at The Heritage Foundation.\n",
      "“If high-tax states don’t change their ways, they will continue to bleed residents and, sooner or later, it will be ‘last one out, turn out the lights,’” said Moore.\n",
      "“The real and often overlooked losers in this are low-income people living in noncompetitive states, who lack the means to relocate,” Moore said.\n",
      "Bonner R. Cohen, Ph.D. (bcohen@nationalcenter.org) is a senior fellow at the National Center for Public Policy Research.\n",
      "Internet Info\n",
      "“Arizona Gains Rhode Island’s Seat with New 2018 Census Estimates; But Greater Change Likely by 2020,” news release, Election Data Services, Inc., December 19, 2018:\n",
      "\n",
      "“Nevada and Idaho Are the Nation’s Fastest-Growing States,” news release, U.S. Bureau of the Census, December 19, 2018:\n",
      "\n",
      "“Table 2. Cumulative Estimates of Resident Population Change for the United States, Regions, States, and Puerto Rico and Region and State Rankings: April 1, 2010 to July 1, 2018,” Excel spreadsheet, NST-EST2018-02, U.S. Bureau of the Census, December 19, 2018:\n",
      "\n"
     ]
    }
   ],
   "source": [
    "import re\n",
    "\n",
    "re_exp = '(http|ftp|https)://([\\w_-]+(?:(?:\\.[\\w_-]+)+))([\\w.,@?^=%&:/~+#-]*[\\w@?^=%&/~+#-])?'\n",
    "for i in range(65,1000):\n",
    "    key = f'train-{i}'\n",
    "    doc = data[key]['text']\n",
    "    match = re.search(re_exp, doc)\n",
    "    if match:\n",
    "        urls = re.findall(re_exp, doc)\n",
    "        docnew = re.sub(re_exp,'',doc)\n",
    "        print(i)\n",
    "        #print(doc)\n",
    "        #print(urls)\n",
    "        print(docnew)\n",
    "        break;\n"
   ]
  },
  {
   "cell_type": "code",
   "execution_count": null,
   "metadata": {},
   "outputs": [],
   "source": []
  }
 ],
 "metadata": {
  "kernelspec": {
   "display_name": "Python 3",
   "language": "python",
   "name": "python3"
  },
  "language_info": {
   "codemirror_mode": {
    "name": "ipython",
    "version": 3
   },
   "file_extension": ".py",
   "mimetype": "text/x-python",
   "name": "python",
   "nbconvert_exporter": "python",
   "pygments_lexer": "ipython3",
   "version": "3.6.9"
  }
 },
 "nbformat": 4,
 "nbformat_minor": 4
}
